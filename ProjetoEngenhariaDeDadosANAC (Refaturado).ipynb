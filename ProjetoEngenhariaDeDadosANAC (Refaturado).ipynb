{
 "cells": [
  {
   "cell_type": "code",
   "execution_count": 1,
   "id": "e23da2de",
   "metadata": {},
   "outputs": [],
   "source": [
    "import pandas as pd\n",
    "import psycopg2"
   ]
  },
  {
   "cell_type": "code",
   "execution_count": 2,
   "id": "2a8f00bb",
   "metadata": {},
   "outputs": [],
   "source": [
    "caminho_do_arquivo = r\"C:\\Users\\Matheus Neves\\ScriptsEstudo/ocorrenciaANAC.json\"\n",
    "df = pd.read_json(caminho_do_arquivo, encoding='utf-8-sig')"
   ]
  },
  {
   "cell_type": "code",
   "execution_count": 3,
   "id": "b440d358",
   "metadata": {},
   "outputs": [],
   "source": [
    "colunas = [\"Numero_da_Ocorrencia\",\"Classificacao_da_Ocorrência\",\"Data_da_Ocorrencia\",\"Municipio\",\"UF\",\"Regiao\",\"Nome_do_Fabricante\"]\n",
    "df = df[colunas]\n",
    "df.rename(columns= {   'Classificacao_da_Ocorrência'  : 'Classificacao_da_Ocorrencia'     },inplace=True)"
   ]
  },
  {
   "cell_type": "code",
   "execution_count": 4,
   "id": "8f436bfa",
   "metadata": {},
   "outputs": [],
   "source": [
    "dbname = 'python'\n",
    "user = 'postgres'\n",
    "password = '703209'\n",
    "host = 'localhost'\n",
    "port = '5432'\n",
    "\n",
    "\n",
    "conexao = psycopg2.connect(dbname =dbname,\n",
    "                           user=user,\n",
    "                           password =password,\n",
    "                           host=host,\n",
    "                           port=port)\n",
    "\n",
    "cursor = conexao.cursor()\n",
    "\n",
    "#Deleta base antes da carga\n",
    "cursor.execute(\"delete from anac\")\n",
    "\n",
    "for indice, coluna_df in df.iterrows():\n",
    "    cursor.execute(\"\"\" INSERT INTO Anac (\n",
    "            Numero_da_Ocorrencia, \n",
    "            Classificacao_da_Ocorrencia, \n",
    "            Data_da_Ocorrencia, \n",
    "            Municipio, \n",
    "            UF, \n",
    "            Regiao, \n",
    "            Nome_do_Fabricante\n",
    "        ) VALUES (%s, %s, %s, %s, %s, %s, %s)\n",
    "        \"\"\", (\n",
    "        coluna_df[\"Numero_da_Ocorrencia\"],\n",
    "        coluna_df[\"Classificacao_da_Ocorrencia\"],\n",
    "        coluna_df[\"Data_da_Ocorrencia\"],\n",
    "        coluna_df[\"Municipio\"],\n",
    "        coluna_df[\"UF\"],\n",
    "        coluna_df[\"Regiao\"],\n",
    "        coluna_df[\"Nome_do_Fabricante\"]\n",
    "    ))\n",
    "\n",
    "conexao.commit()\n",
    "cursor.close()\n",
    "conexao.close()\n",
    "\n"
   ]
  }
 ],
 "metadata": {
  "kernelspec": {
   "display_name": "base",
   "language": "python",
   "name": "python3"
  },
  "language_info": {
   "codemirror_mode": {
    "name": "ipython",
    "version": 3
   },
   "file_extension": ".py",
   "mimetype": "text/x-python",
   "name": "python",
   "nbconvert_exporter": "python",
   "pygments_lexer": "ipython3",
   "version": "3.11.7"
  }
 },
 "nbformat": 4,
 "nbformat_minor": 5
}
